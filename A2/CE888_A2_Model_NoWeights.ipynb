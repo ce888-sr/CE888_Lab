{
  "nbformat": 4,
  "nbformat_minor": 0,
  "metadata": {
    "colab": {
      "name": "CE888_A2_Model_NoWeights.ipynb",
      "provenance": [],
      "authorship_tag": "ABX9TyP6/LgcMtRO+p1cx/hRc+1i",
      "include_colab_link": true
    },
    "kernelspec": {
      "name": "python3",
      "display_name": "Python 3"
    },
    "language_info": {
      "name": "python"
    },
    "accelerator": "GPU"
  },
  "cells": [
    {
      "cell_type": "markdown",
      "metadata": {
        "id": "view-in-github",
        "colab_type": "text"
      },
      "source": [
        "<a href=\"https://colab.research.google.com/github/ce888-sr/CE888_Lab/blob/main/A2/CE888_A2_Model_NoWeights.ipynb\" target=\"_parent\"><img src=\"https://colab.research.google.com/assets/colab-badge.svg\" alt=\"Open In Colab\"/></a>"
      ]
    },
    {
      "cell_type": "code",
      "metadata": {
        "id": "1rw3Dod2ANJk"
      },
      "source": [
        "import tensorflow as tf\n",
        "import matplotlib.pyplot as plt\n",
        "import numpy as np\n",
        "from tensorflow import keras\n",
        "from tensorflow.keras import layers\n",
        "from tensorflow.keras.models import Sequential\n",
        "from tensorflow.keras.layers.experimental import preprocessing\n",
        "from tensorflow.keras.preprocessing.image import ImageDataGenerator\n",
        "from tensorflow.keras.layers import Input, Activation, Dropout, Dense, Conv2D, Flatten, Dropout, ReLU, MaxPool2D, BatchNormalization, SeparableConv2D, Add, GlobalAvgPool2D, GlobalAveragePooling2D\n",
        "import cv2"
      ],
      "execution_count": 1,
      "outputs": []
    },
    {
      "cell_type": "code",
      "metadata": {
        "colab": {
          "base_uri": "https://localhost:8080/"
        },
        "id": "LnPqjyVGAQRT",
        "outputId": "1d7a741e-60ce-4382-ad6e-b4f4393c5165"
      },
      "source": [
        "#connect to google drive\n",
        "from google.colab import drive\n",
        "drive.mount('/content/gdrive')"
      ],
      "execution_count": 2,
      "outputs": [
        {
          "output_type": "stream",
          "text": [
            "Mounted at /content/gdrive\n"
          ],
          "name": "stdout"
        }
      ]
    },
    {
      "cell_type": "code",
      "metadata": {
        "id": "muejkt8gAR-7"
      },
      "source": [
        "#download and unzip files\n",
        "#!unzip  \"/content/gdrive/My Drive/Training (2).zip\"\n",
        "#!unzip  \"/content/gdrive/My Drive/Test (1).zip\""
      ],
      "execution_count": 21,
      "outputs": []
    },
    {
      "cell_type": "code",
      "metadata": {
        "id": "J24M6UvsAboU"
      },
      "source": [
        "train_directory = \"/content/Training\" #set directory to where the extracted datsets are saved\n",
        "test_directory = '/content/Test'"
      ],
      "execution_count": 4,
      "outputs": []
    },
    {
      "cell_type": "code",
      "metadata": {
        "id": "ukOKwX0rAcXM"
      },
      "source": [
        "#set image size and batch size\n",
        "image_size = (254, 254)\n",
        "batch_size = 32"
      ],
      "execution_count": 5,
      "outputs": []
    },
    {
      "cell_type": "code",
      "metadata": {
        "id": "7DjU5_UGAcaH"
      },
      "source": [
        "#add data augmentation techniques to the training datagen and add rescale to all datagens\n",
        "train_datagen = ImageDataGenerator(rescale=1./255,\n",
        "    shear_range=0.1,\n",
        "    width_shift_range=0.2,\n",
        "    height_shift_range=0.2,\n",
        "    brightness_range=[0.8,0.9],\n",
        "    validation_split=0.2)\n",
        "\n",
        "\n",
        "val_datagen = ImageDataGenerator(rescale=1./255,\n",
        "                                 validation_split=0.2)\n",
        "\n",
        "test_datagen = ImageDataGenerator(rescale=1./255)"
      ],
      "execution_count": 6,
      "outputs": []
    },
    {
      "cell_type": "code",
      "metadata": {
        "colab": {
          "base_uri": "https://localhost:8080/"
        },
        "id": "3L1Wv4USAcfz",
        "outputId": "17bc5d8b-063c-480e-f06e-3cdb7ebc84d0"
      },
      "source": [
        "#create datasets for training, validation and testing\n",
        "train_ds = train_datagen.flow_from_directory(\n",
        "    train_directory,\n",
        "    target_size=image_size,\n",
        "    batch_size=batch_size,\n",
        "    class_mode='binary',\n",
        "    shuffle=True,\n",
        "    seed = 1337,\n",
        "    subset='training') # set as training data\n",
        "\n",
        "val_ds = val_datagen.flow_from_directory(\n",
        "    train_directory, # same directory as training data\n",
        "    target_size=image_size,\n",
        "    batch_size=batch_size,\n",
        "    class_mode='binary',\n",
        "    shuffle=True,\n",
        "    seed = 1337,\n",
        "    subset='validation') # set as validation data\n",
        "\n",
        "test_ds = test_datagen.flow_from_directory(test_directory,\n",
        "                                           target_size=image_size,\n",
        "                                           batch_size=batch_size,\n",
        "                                           class_mode='binary',\n",
        "                                           shuffle = False)"
      ],
      "execution_count": 7,
      "outputs": [
        {
          "output_type": "stream",
          "text": [
            "Found 31501 images belonging to 2 classes.\n",
            "Found 7874 images belonging to 2 classes.\n",
            "Found 8617 images belonging to 2 classes.\n"
          ],
          "name": "stdout"
        }
      ]
    },
    {
      "cell_type": "code",
      "metadata": {
        "colab": {
          "base_uri": "https://localhost:8080/"
        },
        "id": "i0k-oIlGAgSl",
        "outputId": "6a437772-f14d-41cb-d9c4-c1d409db1100"
      },
      "source": [
        "#load pre trained Xception model\n",
        "from keras.models import Model\n",
        "from tensorflow.keras.applications import Xception # TensorFlow ONLY\n",
        "from tensorflow.keras import regularizers\n",
        "\n",
        "from keras.models import Model\n",
        "#load pre trained Xception model\n",
        "base_model = Xception(input_shape=(254, 254, 3), include_top=False) #define model\n",
        "x = base_model.output\n",
        "\n",
        "# add additional layers\n",
        "x = GlobalAveragePooling2D()(x) #convert features to vectors\n",
        "x = Dropout(0.5)(x) # add dropout 0.5\n",
        "x = Dense(2048, activation = 'relu')(x)\n",
        "x = Dropout(0.5)(x) # add dropout 0.5\n",
        "output = Dense(1, activation='sigmoid')(x) #2 classes\n",
        "\n",
        "#freeze the pre-trained base_model\n",
        "for layer in base_model.layers: \n",
        "        layer.trainable = False \n",
        "\n",
        "model = Model(base_model.input, output)\n",
        "\n",
        "#model.summary()"
      ],
      "execution_count": 8,
      "outputs": [
        {
          "output_type": "stream",
          "text": [
            "Downloading data from https://storage.googleapis.com/tensorflow/keras-applications/xception/xception_weights_tf_dim_ordering_tf_kernels_notop.h5\n",
            "83689472/83683744 [==============================] - 1s 0us/step\n"
          ],
          "name": "stdout"
        }
      ]
    },
    {
      "cell_type": "code",
      "metadata": {
        "id": "k87exle7AkRt"
      },
      "source": [
        "model.compile(optimizer=keras.optimizers.Adam(lr=1e-6), #low learning rate \n",
        "                  loss='binary_crossentropy',  # binary_crossentropy for binary classifier\n",
        "                  metrics=['accuracy'])"
      ],
      "execution_count": 9,
      "outputs": []
    },
    {
      "cell_type": "code",
      "metadata": {
        "id": "dPbLp70fAnda"
      },
      "source": [
        "#set early stopping and model weights checkpoint\n",
        "from tensorflow.keras.callbacks import EarlyStopping, ModelCheckpoint\n",
        "filepath = 'top_model.hdf5'\n",
        "callbacks_list = [\n",
        "    EarlyStopping(monitor=\"val_loss\", patience=5, verbose=1, restore_best_weights=True), #patience set to 5 to stop overfitting\n",
        "    ModelCheckpoint(filepath, monitor =\"val_loss\", mode=\"min\", save_best_only=True)]"
      ],
      "execution_count": 11,
      "outputs": []
    },
    {
      "cell_type": "code",
      "metadata": {
        "colab": {
          "base_uri": "https://localhost:8080/"
        },
        "id": "KlkAfFJ6ApWh",
        "outputId": "80082f3e-1c40-447e-f823-2b1d50708803"
      },
      "source": [
        "epochs = 30\n",
        "history = model.fit(train_ds,\n",
        "          steps_per_epoch = 100, \n",
        "          batch_size=batch_size,\n",
        "          epochs=epochs, \n",
        "          validation_data=val_ds,\n",
        "          #class_weight=class_weight,\n",
        "          callbacks = callbacks_list)"
      ],
      "execution_count": 12,
      "outputs": [
        {
          "output_type": "stream",
          "text": [
            "Epoch 1/30\n",
            "100/100 [==============================] - 142s 1s/step - loss: 0.6915 - accuracy: 0.6011 - val_loss: 0.6325 - val_accuracy: 0.6358\n",
            "Epoch 2/30\n",
            "100/100 [==============================] - 105s 1s/step - loss: 0.6310 - accuracy: 0.6531 - val_loss: 0.5827 - val_accuracy: 0.6415\n",
            "Epoch 3/30\n",
            "100/100 [==============================] - 104s 1s/step - loss: 0.6053 - accuracy: 0.6778 - val_loss: 0.5419 - val_accuracy: 0.7188\n",
            "Epoch 4/30\n",
            "100/100 [==============================] - 104s 1s/step - loss: 0.5728 - accuracy: 0.7095 - val_loss: 0.5070 - val_accuracy: 0.8740\n",
            "Epoch 5/30\n",
            "100/100 [==============================] - 104s 1s/step - loss: 0.5547 - accuracy: 0.7357 - val_loss: 0.4779 - val_accuracy: 0.9780\n",
            "Epoch 6/30\n",
            "100/100 [==============================] - 104s 1s/step - loss: 0.5235 - accuracy: 0.7801 - val_loss: 0.4482 - val_accuracy: 0.9987\n",
            "Epoch 7/30\n",
            "100/100 [==============================] - 104s 1s/step - loss: 0.4932 - accuracy: 0.7973 - val_loss: 0.4241 - val_accuracy: 0.9983\n",
            "Epoch 8/30\n",
            "100/100 [==============================] - 103s 1s/step - loss: 0.4834 - accuracy: 0.8045 - val_loss: 0.4031 - val_accuracy: 0.9970\n",
            "Epoch 9/30\n",
            "100/100 [==============================] - 103s 1s/step - loss: 0.4652 - accuracy: 0.8114 - val_loss: 0.3849 - val_accuracy: 0.9949\n",
            "Epoch 10/30\n",
            "100/100 [==============================] - 104s 1s/step - loss: 0.4374 - accuracy: 0.8440 - val_loss: 0.3631 - val_accuracy: 0.9944\n",
            "Epoch 11/30\n",
            "100/100 [==============================] - 103s 1s/step - loss: 0.4163 - accuracy: 0.8521 - val_loss: 0.3450 - val_accuracy: 0.9928\n",
            "Epoch 12/30\n",
            "100/100 [==============================] - 103s 1s/step - loss: 0.4168 - accuracy: 0.8479 - val_loss: 0.3327 - val_accuracy: 0.9859\n",
            "Epoch 13/30\n",
            "100/100 [==============================] - 103s 1s/step - loss: 0.3934 - accuracy: 0.8678 - val_loss: 0.3152 - val_accuracy: 0.9858\n",
            "Epoch 14/30\n",
            "100/100 [==============================] - 103s 1s/step - loss: 0.3770 - accuracy: 0.8700 - val_loss: 0.3010 - val_accuracy: 0.9837\n",
            "Epoch 15/30\n",
            "100/100 [==============================] - 104s 1s/step - loss: 0.3685 - accuracy: 0.8724 - val_loss: 0.2884 - val_accuracy: 0.9802\n",
            "Epoch 16/30\n",
            "100/100 [==============================] - 103s 1s/step - loss: 0.3739 - accuracy: 0.8660 - val_loss: 0.2776 - val_accuracy: 0.9764\n",
            "Epoch 17/30\n",
            "100/100 [==============================] - 103s 1s/step - loss: 0.3522 - accuracy: 0.8820 - val_loss: 0.2668 - val_accuracy: 0.9724\n",
            "Epoch 18/30\n",
            "100/100 [==============================] - 103s 1s/step - loss: 0.3491 - accuracy: 0.8823 - val_loss: 0.2567 - val_accuracy: 0.9707\n",
            "Epoch 19/30\n",
            "100/100 [==============================] - 103s 1s/step - loss: 0.3231 - accuracy: 0.8982 - val_loss: 0.2475 - val_accuracy: 0.9684\n",
            "Epoch 20/30\n",
            "100/100 [==============================] - 103s 1s/step - loss: 0.3476 - accuracy: 0.8791 - val_loss: 0.2407 - val_accuracy: 0.9652\n",
            "Epoch 21/30\n",
            "100/100 [==============================] - 102s 1s/step - loss: 0.3192 - accuracy: 0.8997 - val_loss: 0.2343 - val_accuracy: 0.9615\n",
            "Epoch 22/30\n",
            "100/100 [==============================] - 103s 1s/step - loss: 0.3215 - accuracy: 0.8939 - val_loss: 0.2267 - val_accuracy: 0.9600\n",
            "Epoch 23/30\n",
            "100/100 [==============================] - 103s 1s/step - loss: 0.3137 - accuracy: 0.8929 - val_loss: 0.2195 - val_accuracy: 0.9591\n",
            "Epoch 24/30\n",
            "100/100 [==============================] - 103s 1s/step - loss: 0.3023 - accuracy: 0.9043 - val_loss: 0.2115 - val_accuracy: 0.9592\n",
            "Epoch 25/30\n",
            "100/100 [==============================] - 102s 1s/step - loss: 0.2895 - accuracy: 0.9117 - val_loss: 0.2043 - val_accuracy: 0.9591\n",
            "Epoch 26/30\n",
            "100/100 [==============================] - 104s 1s/step - loss: 0.3003 - accuracy: 0.8993 - val_loss: 0.2001 - val_accuracy: 0.9573\n",
            "Epoch 27/30\n",
            "100/100 [==============================] - 103s 1s/step - loss: 0.2642 - accuracy: 0.9192 - val_loss: 0.1922 - val_accuracy: 0.9586\n",
            "Epoch 28/30\n",
            "100/100 [==============================] - 103s 1s/step - loss: 0.2698 - accuracy: 0.9198 - val_loss: 0.1904 - val_accuracy: 0.9542\n",
            "Epoch 29/30\n",
            "100/100 [==============================] - 102s 1s/step - loss: 0.2743 - accuracy: 0.9126 - val_loss: 0.1851 - val_accuracy: 0.9542\n",
            "Epoch 30/30\n",
            "100/100 [==============================] - 103s 1s/step - loss: 0.2661 - accuracy: 0.9170 - val_loss: 0.1807 - val_accuracy: 0.9539\n"
          ],
          "name": "stdout"
        }
      ]
    },
    {
      "cell_type": "code",
      "metadata": {
        "colab": {
          "base_uri": "https://localhost:8080/"
        },
        "id": "eHdRKpYuUm-j",
        "outputId": "2d13b934-bdad-438b-c8a9-8b3d6c7173ea"
      },
      "source": [
        "from sklearn.metrics import accuracy_score\n",
        "\n",
        "testLabels = test_ds.classes.astype('int32')\n",
        "\n",
        "\n",
        "## Test Accuracy\n",
        "predictions = model.predict(test_ds)\n",
        "y_pred = np.asarray(predictions).astype('int32').reshape((-1, 1))\n",
        "y_pred = [1 if i> 0.5 else 0 for i in predictions]\n",
        "\n",
        "test_acc = accuracy_score(testLabels, y_pred)\n",
        "\n",
        "print(test_acc)"
      ],
      "execution_count": 14,
      "outputs": [
        {
          "output_type": "stream",
          "text": [
            "0.7123128699083208\n"
          ],
          "name": "stdout"
        }
      ]
    },
    {
      "cell_type": "code",
      "metadata": {
        "colab": {
          "base_uri": "https://localhost:8080/"
        },
        "id": "O7VsWHUPCGCN",
        "outputId": "48615d76-a79c-42c3-9250-cb4b502a11c0"
      },
      "source": [
        "from sklearn.metrics import confusion_matrix, classification_report\n",
        "\n",
        "fire_eval = confusion_matrix(testLabels, y_pred)\n",
        "print(fire_eval)\n",
        "\n",
        "target_names = ['Fire', 'No Fire']\n",
        "print(classification_report(testLabels, y_pred, target_names=target_names))"
      ],
      "execution_count": 15,
      "outputs": [
        {
          "output_type": "stream",
          "text": [
            "[[4089 1048]\n",
            " [1431 2049]]\n",
            "              precision    recall  f1-score   support\n",
            "\n",
            "        Fire       0.74      0.80      0.77      5137\n",
            "     No Fire       0.66      0.59      0.62      3480\n",
            "\n",
            "    accuracy                           0.71      8617\n",
            "   macro avg       0.70      0.69      0.70      8617\n",
            "weighted avg       0.71      0.71      0.71      8617\n",
            "\n"
          ],
          "name": "stdout"
        }
      ]
    },
    {
      "cell_type": "code",
      "metadata": {
        "id": "NI1r7skPCJzT"
      },
      "source": [
        "tp = fire_eval[0][0]\n",
        "fp = fire_eval[0][1]\n",
        "tn = fire_eval[1][0]\n",
        "fn = fire_eval[1][1]\n",
        "conmat = np.array([[tp, fn], [fp, tn]], dtype=int)"
      ],
      "execution_count": 16,
      "outputs": []
    },
    {
      "cell_type": "code",
      "metadata": {
        "colab": {
          "base_uri": "https://localhost:8080/",
          "height": 297
        },
        "id": "JQ2W95BACMoq",
        "outputId": "db58ea3a-af70-4752-d3aa-3226cba7af0d"
      },
      "source": [
        "#plotconfusion matrix\n",
        "from sklearn.metrics import ConfusionMatrixDisplay\n",
        "\n",
        "cmat = ConfusionMatrixDisplay(confusion_matrix=conmat,\n",
        "\n",
        "                              display_labels=target_names)\n",
        "cmat.plot() "
      ],
      "execution_count": 19,
      "outputs": [
        {
          "output_type": "execute_result",
          "data": {
            "text/plain": [
              "<sklearn.metrics._plot.confusion_matrix.ConfusionMatrixDisplay at 0x7f85bc130790>"
            ]
          },
          "metadata": {
            "tags": []
          },
          "execution_count": 19
        },
        {
          "output_type": "display_data",
          "data": {
            "image/png": "[encoded data removed]",
            "text/plain": [
              "<Figure size 432x288 with 2 Axes>"
            ]
          },
          "metadata": {
            "tags": [],
            "needs_background": "light"
          }
        }
      ]
    },
    {
      "cell_type": "code",
      "metadata": {
        "colab": {
          "base_uri": "https://localhost:8080/",
          "height": 573
        },
        "id": "S82czUnACOlZ",
        "outputId": "a1f6e340-66e4-4709-fb4d-381384c5ddb6"
      },
      "source": [
        "#create accuracy and loss plots over epochs\n",
        "import matplotlib.pyplot as plt\n",
        "\n",
        "acc = history.history['accuracy']\n",
        "val_acc = history.history['val_accuracy']\n",
        "loss = history.history['loss']\n",
        "val_loss = history.history['val_loss']\n",
        "\n",
        "epochs = range(1, len(acc) + 1)\n",
        "\n",
        "plt.plot(epochs, acc, 'bo', label='Train_accuracy')\n",
        "plt.plot(epochs, val_acc, 'b', label='Val_accuracy')\n",
        "plt.title('Accuracy')\n",
        "plt.xlabel('epochs')\n",
        "plt.legend()\n",
        "\n",
        "plt.figure()\n",
        "\n",
        "plt.plot(epochs, loss, 'bo', label='Train_loss')\n",
        "plt.plot(epochs, val_loss, 'b', label='Val_loss')\n",
        "plt.title('Loss')\n",
        "plt.xlabel('epochs')\n",
        "plt.legend()\n",
        "\n",
        "plt.show()"
      ],
      "execution_count": 20,
      "outputs": [
        {
          "output_type": "display_data",
          "data": {
            "image/png": "[encoded data removed]",
            "text/plain": [
              "<Figure size 432x288 with 1 Axes>"
            ]
          },
          "metadata": {
            "tags": [],
            "needs_background": "light"
          }
        },
        {
          "output_type": "display_data",
          "data": {
            "image/png": "[encoded data removed]",
            "text/plain": [
              "<Figure size 432x288 with 1 Axes>"
            ]
          },
          "metadata": {
            "tags": [],
            "needs_background": "light"
          }
        }
      ]
    }
  ]
}