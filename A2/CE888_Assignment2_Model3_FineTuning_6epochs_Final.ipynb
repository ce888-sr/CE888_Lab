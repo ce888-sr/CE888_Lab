{
  "nbformat": 4,
  "nbformat_minor": 0,
  "metadata": {
    "colab": {
      "name": "CE888_Assignment2_Model3_FineTuning_6epochs.ipynb",
      "provenance": [],
      "collapsed_sections": [],
      "machine_shape": "hm",
      "authorship_tag": "ABX9TyMz3BkCRH3G3HzKW9knuixj",
      "include_colab_link": true
    },
    "kernelspec": {
      "name": "python3",
      "display_name": "Python 3"
    },
    "language_info": {
      "name": "python"
    },
    "accelerator": "GPU"
  },
  "cells": [
    {
      "cell_type": "markdown",
      "metadata": {
        "id": "view-in-github",
        "colab_type": "text"
      },
      "source": [
        "<a href=\"https://colab.research.google.com/github/ce888-sr/CE888_Lab/blob/main/A2/CE888_Assignment2_Model3_FineTuning_6epochs.ipynb\" target=\"_parent\"><img src=\"https://colab.research.google.com/assets/colab-badge.svg\" alt=\"Open In Colab\"/></a>"
      ]
    },
    {
      "cell_type": "code",
      "metadata": {
        "id": "IVR-0VzS088Y"
      },
      "source": [
        "import tensorflow as tf\n",
        "import matplotlib.pyplot as plt\n",
        "import numpy as np\n",
        "from tensorflow import keras\n",
        "from tensorflow.keras import layers\n",
        "from tensorflow.keras.models import Sequential\n",
        "from tensorflow.keras.layers.experimental import preprocessing\n",
        "from tensorflow.keras.preprocessing.image import ImageDataGenerator\n",
        "from tensorflow.keras.layers import Input, Activation, Dropout, Dense, Conv2D, Flatten, Dropout, ReLU, MaxPool2D, BatchNormalization, SeparableConv2D, Add, GlobalAvgPool2D, GlobalAveragePooling2D\n",
        "import cv2\n"
      ],
      "execution_count": 1,
      "outputs": []
    },
    {
      "cell_type": "code",
      "metadata": {
        "colab": {
          "base_uri": "https://localhost:8080/"
        },
        "id": "yd3ITyP31BS5",
        "outputId": "6193bd4b-6cc1-4383-94fa-d8e6afc97202"
      },
      "source": [
        "#connect to google drive\n",
        "from google.colab import drive\n",
        "drive.mount('/content/gdrive')"
      ],
      "execution_count": 2,
      "outputs": [
        {
          "output_type": "stream",
          "text": [
            "Mounted at /content/gdrive\n"
          ],
          "name": "stdout"
        }
      ]
    },
    {
      "cell_type": "code",
      "metadata": {
        "id": "__sx-95t1JtZ"
      },
      "source": [
        "#download and unzip files\n",
        "#!unzip  \"/content/gdrive/My Drive/Training (2).zip\"\n",
        "#!unzip  \"/content/gdrive/My Drive/Test (1).zip\""
      ],
      "execution_count": 10,
      "outputs": []
    },
    {
      "cell_type": "code",
      "metadata": {
        "id": "HnTFUsnF2Acs"
      },
      "source": [
        "train_directory = \"/content/Training\" #set directory to where the extracted datsets are saved\n",
        "test_directory = '/content/Test'"
      ],
      "execution_count": 11,
      "outputs": []
    },
    {
      "cell_type": "code",
      "metadata": {
        "id": "hIQR_wm8kWSV"
      },
      "source": [
        "#set image size and batch size\n",
        "image_size = (254, 254)\n",
        "batch_size = 32"
      ],
      "execution_count": 12,
      "outputs": []
    },
    {
      "cell_type": "code",
      "metadata": {
        "id": "gxrKUYpblxAZ"
      },
      "source": [
        "#add data augmentation techniques to the training datagen and add rescale to all datagens\n",
        "train_datagen = ImageDataGenerator(rescale=1./255,\n",
        "    shear_range=0.1,\n",
        "    width_shift_range=0.2,\n",
        "    height_shift_range=0.2,\n",
        "    brightness_range=[0.8,0.9],\n",
        "    validation_split=0.2)\n",
        "\n",
        "\n",
        "val_datagen = ImageDataGenerator(rescale=1./255,\n",
        "                                 validation_split=0.2)\n",
        "\n",
        "test_datagen = ImageDataGenerator(rescale=1./255)"
      ],
      "execution_count": 13,
      "outputs": []
    },
    {
      "cell_type": "code",
      "metadata": {
        "colab": {
          "base_uri": "https://localhost:8080/"
        },
        "id": "a4MIDPv--2Zo",
        "outputId": "82ccff21-c2f3-4854-e16e-e5a9115da34b"
      },
      "source": [
        "#create datasets for training, validation and testing\n",
        "train_ds = train_datagen.flow_from_directory(\n",
        "    train_directory,\n",
        "    target_size=image_size,\n",
        "    batch_size=batch_size,\n",
        "    class_mode='binary',\n",
        "    shuffle=True,\n",
        "    seed = 1337,\n",
        "    subset='training') # set as training data\n",
        "\n",
        "val_ds = val_datagen.flow_from_directory(\n",
        "    train_directory, # same directory as training data\n",
        "    target_size=image_size,\n",
        "    batch_size=batch_size,\n",
        "    class_mode='binary',\n",
        "    shuffle=True,\n",
        "    seed = 1337,\n",
        "    subset='validation') # set as validation data\n",
        "\n",
        "test_ds = test_datagen.flow_from_directory(test_directory,\n",
        "                                           target_size=image_size,\n",
        "                                           batch_size=batch_size,\n",
        "                                           class_mode='binary',\n",
        "                                           shuffle = False)"
      ],
      "execution_count": 14,
      "outputs": [
        {
          "output_type": "stream",
          "text": [
            "Found 31501 images belonging to 2 classes.\n",
            "Found 7874 images belonging to 2 classes.\n",
            "Found 8617 images belonging to 2 classes.\n"
          ],
          "name": "stdout"
        }
      ]
    },
    {
      "cell_type": "code",
      "metadata": {
        "id": "leJYGTAmJ-0n"
      },
      "source": [
        "#load pre trained Xception model\n",
        "from keras.models import Model\n",
        "from tensorflow.keras.applications import Xception # TensorFlow ONLY\n",
        "from tensorflow.keras import regularizers\n",
        "\n",
        "from keras.models import Model\n",
        "#load pre trained Xception model\n",
        "base_model = Xception(input_shape=(254, 254, 3), weights='imagenet', include_top=False) #define model\n",
        "x = base_model.output\n",
        "\n",
        "# add additional layers\n",
        "x = GlobalAveragePooling2D()(x) #convert features to vectors\n",
        "x = Dropout(0.5)(x) # add dropout 0.5\n",
        "x = Dense(2048, activation = 'relu')(x)\n",
        "x = Dropout(0.5)(x) # add dropout 0.5\n",
        "output = Dense(1, activation='sigmoid')(x) #2 classes\n",
        "\n",
        "#freeze the pre-trained base_model\n",
        "for layer in base_model.layers: \n",
        "        layer.trainable = False \n",
        "\n",
        "model = Model(base_model.input, output)\n",
        "\n",
        "#model.summary()"
      ],
      "execution_count": 26,
      "outputs": []
    },
    {
      "cell_type": "code",
      "metadata": {
        "id": "xKX-yagnKdpk"
      },
      "source": [
        "model.compile(optimizer=keras.optimizers.Adam(lr=1e-6), #low learning rate \n",
        "                  loss='binary_crossentropy',  # binary_crossentropy for binary classifier\n",
        "                  metrics=['accuracy'])"
      ],
      "execution_count": 27,
      "outputs": []
    },
    {
      "cell_type": "code",
      "metadata": {
        "id": "7hZadyytKmcM"
      },
      "source": [
        "#set early stopping and model weights checkpoint\n",
        "from tensorflow.keras.callbacks import EarlyStopping, ModelCheckpoint\n",
        "filepath = 'top_model.hdf5'\n",
        "callbacks_list = [\n",
        "   # EarlyStopping(monitor=\"val_loss\", patience=5, verbose=1, restore_best_weights=True), #patience set to 5 to stop overfitting\n",
        "    ModelCheckpoint(filepath, monitor =\"val_loss\", mode=\"min\", save_best_only=True)]"
      ],
      "execution_count": 29,
      "outputs": []
    },
    {
      "cell_type": "code",
      "metadata": {
        "colab": {
          "base_uri": "https://localhost:8080/"
        },
        "id": "4ac55zpUKqXU",
        "outputId": "66c10e77-aa28-4423-ae14-13ca521c0662"
      },
      "source": [
        "epochs = 6\n",
        "history = model.fit(train_ds,\n",
        "          steps_per_epoch = 100, \n",
        "          batch_size=batch_size,\n",
        "          epochs=epochs, \n",
        "          validation_data=val_ds,\n",
        "          #class_weight=class_weight,\n",
        "          callbacks = callbacks_list)"
      ],
      "execution_count": 30,
      "outputs": [
        {
          "output_type": "stream",
          "text": [
            "Epoch 1/6\n",
            "100/100 [==============================] - 73s 717ms/step - loss: 0.6365 - accuracy: 0.6611 - val_loss: 0.5758 - val_accuracy: 0.6472\n",
            "Epoch 2/6\n",
            "100/100 [==============================] - 71s 708ms/step - loss: 0.6015 - accuracy: 0.6837 - val_loss: 0.5349 - val_accuracy: 0.6822\n",
            "Epoch 3/6\n",
            "100/100 [==============================] - 71s 710ms/step - loss: 0.5837 - accuracy: 0.6859 - val_loss: 0.5026 - val_accuracy: 0.8583\n",
            "Epoch 4/6\n",
            "100/100 [==============================] - 71s 708ms/step - loss: 0.5366 - accuracy: 0.7575 - val_loss: 0.4707 - val_accuracy: 0.9799\n",
            "Epoch 5/6\n",
            "100/100 [==============================] - 71s 707ms/step - loss: 0.5118 - accuracy: 0.7697 - val_loss: 0.4430 - val_accuracy: 0.9978\n",
            "Epoch 6/6\n",
            "100/100 [==============================] - 71s 708ms/step - loss: 0.5039 - accuracy: 0.7841 - val_loss: 0.4214 - val_accuracy: 0.9999\n"
          ],
          "name": "stdout"
        }
      ]
    },
    {
      "cell_type": "code",
      "metadata": {
        "id": "l_vC-zrH_g-7"
      },
      "source": [
        "for layer in model.layers[:95]:\n",
        " layer.trainable = False\n",
        "for layer in model.layers[95:]:\n",
        " layer.trainable = True"
      ],
      "execution_count": 31,
      "outputs": []
    },
    {
      "cell_type": "code",
      "metadata": {
        "id": "DZ6r0yt1ASGL"
      },
      "source": [
        "model.compile(optimizer=keras.optimizers.Adam(lr=1e-4),\n",
        "                  loss='binary_crossentropy',  # binary_crossentropy for binary classifier\n",
        "                  metrics=['accuracy'])"
      ],
      "execution_count": 32,
      "outputs": []
    },
    {
      "cell_type": "code",
      "metadata": {
        "id": "UzxXuSt0AVw6"
      },
      "source": [
        "from tensorflow.keras.callbacks import EarlyStopping, ModelCheckpoint\n",
        "filepath='final_model.hdf5'\n",
        "my_callbacks = [\n",
        "    ModelCheckpoint(filepath, monitor =\"val_loss\", mode=\"min\", save_best_only=True)]"
      ],
      "execution_count": 33,
      "outputs": []
    },
    {
      "cell_type": "code",
      "metadata": {
        "colab": {
          "base_uri": "https://localhost:8080/"
        },
        "id": "Rz5KZbQJAbim",
        "outputId": "d1e1dc75-da7e-4188-a804-a20843e8fa82"
      },
      "source": [
        "history = model.fit(train_ds,\n",
        "          steps_per_epoch = 100,\n",
        "          batch_size=batch_size,\n",
        "          epochs=15, \n",
        "          validation_data=val_ds,\n",
        "          callbacks = my_callbacks)"
      ],
      "execution_count": 34,
      "outputs": [
        {
          "output_type": "stream",
          "text": [
            "Epoch 1/15\n",
            "100/100 [==============================] - 74s 719ms/step - loss: 0.2491 - accuracy: 0.9063 - val_loss: 0.0231 - val_accuracy: 0.9881\n",
            "Epoch 2/15\n",
            "100/100 [==============================] - 71s 715ms/step - loss: 0.0389 - accuracy: 0.9871 - val_loss: 0.1196 - val_accuracy: 0.9707\n",
            "Epoch 3/15\n",
            "100/100 [==============================] - 71s 710ms/step - loss: 0.0221 - accuracy: 0.9911 - val_loss: 0.1461 - val_accuracy: 0.9693\n",
            "Epoch 4/15\n",
            "100/100 [==============================] - 71s 712ms/step - loss: 0.0328 - accuracy: 0.9924 - val_loss: 0.1397 - val_accuracy: 0.9647\n",
            "Epoch 5/15\n",
            "100/100 [==============================] - 71s 710ms/step - loss: 0.0177 - accuracy: 0.9948 - val_loss: 0.1813 - val_accuracy: 0.9581\n",
            "Epoch 6/15\n",
            "100/100 [==============================] - 71s 710ms/step - loss: 0.0110 - accuracy: 0.9956 - val_loss: 0.1886 - val_accuracy: 0.9647\n",
            "Epoch 7/15\n",
            "100/100 [==============================] - 71s 711ms/step - loss: 0.0154 - accuracy: 0.9941 - val_loss: 0.2520 - val_accuracy: 0.9587\n",
            "Epoch 8/15\n",
            "100/100 [==============================] - 72s 717ms/step - loss: 0.0090 - accuracy: 0.9977 - val_loss: 0.2088 - val_accuracy: 0.9648\n",
            "Epoch 9/15\n",
            "100/100 [==============================] - 71s 715ms/step - loss: 0.0171 - accuracy: 0.9964 - val_loss: 0.3634 - val_accuracy: 0.9576\n",
            "Epoch 10/15\n",
            "100/100 [==============================] - 71s 713ms/step - loss: 0.0056 - accuracy: 0.9970 - val_loss: 0.1531 - val_accuracy: 0.9735\n",
            "Epoch 11/15\n",
            "100/100 [==============================] - 72s 725ms/step - loss: 0.0217 - accuracy: 0.9916 - val_loss: 0.0490 - val_accuracy: 0.9845\n",
            "Epoch 12/15\n",
            "100/100 [==============================] - 71s 713ms/step - loss: 0.0108 - accuracy: 0.9962 - val_loss: 0.1378 - val_accuracy: 0.9741\n",
            "Epoch 13/15\n",
            "100/100 [==============================] - 71s 713ms/step - loss: 0.0131 - accuracy: 0.9966 - val_loss: 0.2390 - val_accuracy: 0.9589\n",
            "Epoch 14/15\n",
            "100/100 [==============================] - 71s 715ms/step - loss: 0.0078 - accuracy: 0.9982 - val_loss: 0.0966 - val_accuracy: 0.9735\n",
            "Epoch 15/15\n",
            "100/100 [==============================] - 71s 713ms/step - loss: 0.0055 - accuracy: 0.9976 - val_loss: 0.1967 - val_accuracy: 0.9655\n"
          ],
          "name": "stdout"
        }
      ]
    },
    {
      "cell_type": "code",
      "metadata": {
        "id": "HcqmROGj2O5e"
      },
      "source": [
        "test_ds.reset()\n",
        "train_ds.reset()\n",
        "val_ds.reset()"
      ],
      "execution_count": 64,
      "outputs": []
    },
    {
      "cell_type": "code",
      "metadata": {
        "colab": {
          "base_uri": "https://localhost:8080/"
        },
        "id": "qHnm1uCIBFih",
        "outputId": "70d7da04-15af-4e4f-af5c-e94bf7a99469"
      },
      "source": [
        "from sklearn.metrics import accuracy_score\n",
        "\n",
        "testLabels = test_ds.classes.astype('int32')\n",
        "\n",
        "\n",
        "## Test Accuracy\n",
        "predictions = model.predict(test_ds)\n",
        "y_pred = np.asarray(predictions).astype('int32').reshape((-1, 1))\n",
        "y_pred = [1 if i> 0.5 else 0 for i in predictions]\n",
        "\n",
        "test_acc = accuracy_score(testLabels, y_pred)\n",
        "\n",
        "print(test_acc)"
      ],
      "execution_count": 35,
      "outputs": [
        {
          "output_type": "stream",
          "text": [
            "0.765579668097946\n"
          ],
          "name": "stdout"
        }
      ]
    },
    {
      "cell_type": "code",
      "metadata": {
        "colab": {
          "base_uri": "https://localhost:8080/"
        },
        "id": "NmWLbI6GQV6W",
        "outputId": "ddd2492f-ee1d-4db8-d87e-1d9c60b55ec8"
      },
      "source": [
        "#test_scores.reset()\n",
        "test_scores = model.evaluate(test_ds, batch_size=batch_size)"
      ],
      "execution_count": 37,
      "outputs": [
        {
          "output_type": "stream",
          "text": [
            "270/270 [==============================] - 26s 96ms/step - loss: 0.8997 - accuracy: 0.7656\n"
          ],
          "name": "stdout"
        }
      ]
    },
    {
      "cell_type": "code",
      "metadata": {
        "id": "yayl6xj2le5p"
      },
      "source": [
        "from sklearn.metrics import accuracy_score\n",
        "\n",
        "from sklearn.metrics import precision_recall_fscore_support, roc_auc_score\n",
        "\n",
        "precision, recall, f1score, _ = precision_recall_fscore_support(testLabels, y_pred, average='binary')\n",
        "\n",
        "auc = roc_auc_score(testLabels, y_pred)"
      ],
      "execution_count": null,
      "outputs": []
    },
    {
      "cell_type": "code",
      "metadata": {
        "id": "aaQK_95VQGKk",
        "colab": {
          "base_uri": "https://localhost:8080/"
        },
        "outputId": "18cbca51-7bc2-4883-c530-a14dd3ddb04e"
      },
      "source": [
        "from sklearn.metrics import confusion_matrix, classification_report\n",
        "\n",
        "\n",
        "fire_eval = confusion_matrix(testLabels, y_pred)\n",
        "print(fire_eval)\n",
        "\n",
        "target_names = ['Fire', 'No Fire']\n",
        "print(classification_report(testLabels, y_pred, target_names=target_names))"
      ],
      "execution_count": 39,
      "outputs": [
        {
          "output_type": "stream",
          "text": [
            "[[4372  765]\n",
            " [1255 2225]]\n",
            "              precision    recall  f1-score   support\n",
            "\n",
            "        Fire       0.78      0.85      0.81      5137\n",
            "     No Fire       0.74      0.64      0.69      3480\n",
            "\n",
            "    accuracy                           0.77      8617\n",
            "   macro avg       0.76      0.75      0.75      8617\n",
            "weighted avg       0.76      0.77      0.76      8617\n",
            "\n"
          ],
          "name": "stdout"
        }
      ]
    },
    {
      "cell_type": "code",
      "metadata": {
        "id": "d7C89ABJuhgV"
      },
      "source": [
        "tp = fire_eval[0][0]\n",
        "fp = fire_eval[0][1]\n",
        "tn = fire_eval[1][0]\n",
        "fn = fire_eval[1][1]\n",
        "conmat = np.array([[tp, fn], [fp, tn]], dtype=int)"
      ],
      "execution_count": 45,
      "outputs": []
    },
    {
      "cell_type": "code",
      "metadata": {
        "id": "9mw3wvKuqUJN",
        "colab": {
          "base_uri": "https://localhost:8080/",
          "height": 296
        },
        "outputId": "8c473d45-4b7f-4f2e-91ab-d3302e70d8e3"
      },
      "source": [
        "#plotconfusion matrix\n",
        "from sklearn.metrics import ConfusionMatrixDisplay\n",
        "\n",
        "cmat = ConfusionMatrixDisplay(confusion_matrix=conmat,\n",
        "\n",
        "                              display_labels=target_names)\n",
        "cmat.plot() "
      ],
      "execution_count": 46,
      "outputs": [
        {
          "output_type": "execute_result",
          "data": {
            "text/plain": [
              "<sklearn.metrics._plot.confusion_matrix.ConfusionMatrixDisplay at 0x7f728ae91350>"
            ]
          },
          "metadata": {
            "tags": []
          },
          "execution_count": 46
        },
        {
          "output_type": "display_data",
          "data": {
            "image/png": "[encoded data removed]",
            "text/plain": [
              "<Figure size 432x288 with 2 Axes>"
            ]
          },
          "metadata": {
            "tags": [],
            "needs_background": "light"
          }
        }
      ]
    },
    {
      "cell_type": "code",
      "metadata": {
        "id": "Jexj3XApZfYo",
        "colab": {
          "base_uri": "https://localhost:8080/",
          "height": 573
        },
        "outputId": "4e410a60-6a64-41c6-8ad2-e7e69038ea9c"
      },
      "source": [
        "#create accuracy and loss plots over epochs to evaluate where to stop epoch\n",
        "import matplotlib.pyplot as plt\n",
        "\n",
        "acc = history.history['accuracy']\n",
        "val_acc = history.history['val_accuracy']\n",
        "loss = history.history['loss']\n",
        "val_loss = history.history['val_loss']\n",
        "\n",
        "epochs = range(1, len(acc) + 1)\n",
        "\n",
        "plt.plot(epochs, acc, 'bo', label='Train_accuracy')\n",
        "plt.plot(epochs, val_acc, 'b', label='Val_accuracy')\n",
        "plt.title('Accuracy')\n",
        "plt.xlabel('epochs')\n",
        "plt.legend()\n",
        "\n",
        "plt.figure()\n",
        "\n",
        "plt.plot(epochs, loss, 'bo', label='Train_loss')\n",
        "plt.plot(epochs, val_loss, 'b', label='Val_loss')\n",
        "plt.title('Loss')\n",
        "plt.xlabel('epochs')\n",
        "plt.legend()\n",
        "\n",
        "plt.show()"
      ],
      "execution_count": 36,
      "outputs": [
        {
          "output_type": "display_data",
          "data": {
            "image/png": "[encoded data removed]",
            "text/plain": [
              "<Figure size 432x288 with 1 Axes>"
            ]
          },
          "metadata": {
            "tags": [],
            "needs_background": "light"
          }
        },
        {
          "output_type": "display_data",
          "data": {
            "image/png": "[encoded data removed]",
            "text/plain": [
              "<Figure size 432x288 with 1 Axes>"
            ]
          },
          "metadata": {
            "tags": [],
            "needs_background": "light"
          }
        }
      ]
    },
    {
      "cell_type": "code",
      "metadata": {
        "id": "qO6MjW5HwisJ",
        "colab": {
          "base_uri": "https://localhost:8080/"
        },
        "outputId": "34928500-5b9b-446e-e496-7c72efb3de6f"
      },
      "source": [
        "print(history.history.keys())"
      ],
      "execution_count": null,
      "outputs": [
        {
          "output_type": "stream",
          "text": [
            "dict_keys(['loss', 'accuracy', 'val_loss', 'val_accuracy'])\n"
          ],
          "name": "stdout"
        }
      ]
    }
  ]
}
