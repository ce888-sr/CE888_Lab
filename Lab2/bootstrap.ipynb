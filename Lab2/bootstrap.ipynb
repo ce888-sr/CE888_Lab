{
  "nbformat": 4,
  "nbformat_minor": 0,
  "metadata": {
    "colab": {
      "name": "bootstrap.ipynb",
      "provenance": [],
      "collapsed_sections": [],
      "include_colab_link": true
    },
    "kernelspec": {
      "display_name": "Python 3",
      "language": "python",
      "name": "python3"
    },
    "language_info": {
      "codemirror_mode": {
        "name": "ipython",
        "version": 3
      },
      "file_extension": ".py",
      "mimetype": "text/x-python",
      "name": "python",
      "nbconvert_exporter": "python",
      "pygments_lexer": "ipython3",
      "version": "3.7.6"
    },
    "pycharm": {
      "stem_cell": {
        "cell_type": "raw",
        "metadata": {
          "collapsed": false
        },
        "source": []
      }
    }
  },
  "cells": [
    {
      "cell_type": "markdown",
      "metadata": {
        "id": "view-in-github",
        "colab_type": "text"
      },
      "source": [
        "<a href=\"https://colab.research.google.com/github/ce888-sr/CE888_Lab/blob/main/Lab2/bootstrap.ipynb\" target=\"_parent\"><img src=\"https://colab.research.google.com/assets/colab-badge.svg\" alt=\"Open In Colab\"/></a>"
      ]
    },
    {
      "cell_type": "markdown",
      "metadata": {
        "id": "nCi_99yMYIb1"
      },
      "source": [
        "In this notebook you'll create your own bootstrap function following the bootstrap algorithm (check the lecture notes!)"
      ]
    },
    {
      "cell_type": "code",
      "metadata": {
        "id": "LY5zujI2YC37",
        "pycharm": {
          "name": "#%%# Imports\n"
        }
      },
      "source": [
        "import matplotlib\n",
        "import pandas as pd\n",
        "import seaborn as sns\n",
        "import numpy as np\n",
        "\n"
      ],
      "execution_count": 1,
      "outputs": []
    },
    {
      "cell_type": "code",
      "metadata": {
        "id": "Eqkwj4SMY38t",
        "colab": {
          "base_uri": "https://localhost:8080/"
        },
        "outputId": "a9353ffd-cba4-475d-f7de-a5d46a228ad4"
      },
      "source": [
        "# Load the data\n",
        "df = pd.read_csv('https://raw.githubusercontent.com/albanda/CE888/master/lab2%20-%20bootstrap/customers.csv')\n",
        "data = df.values.T[1]\n",
        "print(data)"
      ],
      "execution_count": 2,
      "outputs": [
        {
          "output_type": "stream",
          "text": [
            "[ 2.  8. 20. 13.  5.  9. 10.  8. 22. 10.  2.  4.  7.  9.]\n"
          ],
          "name": "stdout"
        }
      ]
    },
    {
      "cell_type": "code",
      "metadata": {
        "id": "Gxvc_bScYC4H",
        "pycharm": {
          "name": "#%%\n"
        }
      },
      "source": [
        "def bootstrap_mean(x, sample_size, n_bootstraps):\n",
        "    data_mean = np.empty(sample_size) #create empty array\n",
        "    sample = np.array([np.random.choice(x, size=sample_size, replace = True) for i in range(n_bootstraps)])\n",
        "    data_mean = np.mean(sample, axis=1)\n",
        "    \n",
        "    ordered = np.sort(data_mean)\n",
        "    lower = np.percentile(ordered, (1-0.95)/2)\n",
        "    upper = np.percentile(ordered, 0.95+((1-0.95)/2))\n",
        "    \n",
        "    return data_mean, lower, upper"
      ],
      "execution_count": 3,
      "outputs": []
    },
    {
      "cell_type": "code",
      "metadata": {
        "colab": {
          "base_uri": "https://localhost:8080/"
        },
        "id": "ng3-fEvPQBmY",
        "outputId": "55ead469-0bff-4270-fa84-bd05823c25cd"
      },
      "source": [
        "bootstrap_mean(data, len(data), 10000)"
      ],
      "execution_count": 4,
      "outputs": [
        {
          "output_type": "execute_result",
          "data": {
            "text/plain": [
              "(array([10.71428571,  8.28571429,  9.64285714, ...,  9.07142857,\n",
              "        10.        , 11.21428571]), 4.714250000000001, 6.035017857142858)"
            ]
          },
          "metadata": {
            "tags": []
          },
          "execution_count": 4
        }
      ]
    },
    {
      "cell_type": "code",
      "metadata": {
        "id": "AN7sEOcMYC4P",
        "pycharm": {
          "name": "#%%\n"
        }
      },
      "source": [
        "def bootstrap_mean_ci(sample, sample_size, n_bootstraps, ci):\n",
        "    data_mean = np.empty(sample_size) #create empty array\n",
        "    sample = np.array([np.random.choice(sample, size=sample_size, replace = True) for i in range(n_bootstraps)]) #create bootstraps\n",
        "    data_mean = np.nanmean(sample, axis=1) # create array of bootstrap means\n",
        "    \n",
        "    ordered = np.sort(data_mean) #sort the array of means in ascending order\n",
        "    lower = np.percentile(ordered, (100-ci)/2) #lower bound of ci alpha\n",
        "    upper = np.percentile(ordered, ci+((100-ci)/2)) #upper bound of ci alpha\n",
        "    return data_mean, lower, upper\n"
      ],
      "execution_count": 5,
      "outputs": []
    },
    {
      "cell_type": "code",
      "metadata": {
        "id": "3K9j0FuGYhHs"
      },
      "source": [
        "def bootstrap_stand_ci(sample, sample_size, n_bootstraps, ci):\n",
        "    data_std = np.empty(sample_size) #create empty array\n",
        "    sample = np.array([np.random.choice(sample, size=sample_size, replace = True) for i in range(n_bootstraps)]) #create bootstraps\n",
        "    data_std = np.nanstd(sample, axis=1) # create array of bootstrap means\n",
        "    \n",
        "    ordered = np.sort(data_std) #sort the array of means in ascending order\n",
        "    lower = np.percentile(ordered, (100-ci)/2) #lower bound of ci alpha\n",
        "    upper = np.percentile(ordered, ci+((100-ci)/2)) #upper bound of ci alpha\n",
        "    return data_std, lower, upper"
      ],
      "execution_count": 6,
      "outputs": []
    },
    {
      "cell_type": "code",
      "metadata": {
        "colab": {
          "base_uri": "https://localhost:8080/"
        },
        "id": "JgTOk-L2QdW-",
        "outputId": "569ee3f1-6cf4-4923-f0c4-579295721b6a"
      },
      "source": [
        "bootstrap_mean_ci(data, len(data), 10000, 0.95)"
      ],
      "execution_count": 7,
      "outputs": [
        {
          "output_type": "execute_result",
          "data": {
            "text/plain": [
              "(array([ 9.35714286,  9.57142857, 10.85714286, ...,  8.71428571,\n",
              "         9.        ,  8.57142857]), 9.142857142857142, 9.142857142857142)"
            ]
          },
          "metadata": {
            "tags": []
          },
          "execution_count": 7
        }
      ]
    },
    {
      "cell_type": "code",
      "metadata": {
        "id": "KAuMI6bBK-5Z"
      },
      "source": [
        "DataFrame = pd.read_csv('https://raw.githubusercontent.com/albanda/CE888/master/lab2%20-%20bootstrap/vehicles.csv')\n",
        "#DataFrame.head()\n",
        "Current_fleet = DataFrame.values.T[0]\n",
        "New_fleet = DataFrame.values.T[1]"
      ],
      "execution_count": 8,
      "outputs": []
    },
    {
      "cell_type": "code",
      "metadata": {
        "id": "uDnjq08GYl-C",
        "colab": {
          "base_uri": "https://localhost:8080/"
        },
        "outputId": "9549ce73-f28d-44e0-b4f3-3302e313665d"
      },
      "source": [
        "Current_fleet_mean = np.nanmean(Current_fleet)\n",
        "New_fleet_mean = np.nanmean(New_fleet)\n",
        "\n",
        "print(Current_fleet_mean, New_fleet_mean)"
      ],
      "execution_count": 9,
      "outputs": [
        {
          "output_type": "stream",
          "text": [
            "20.14457831325301 30.481012658227847\n"
          ],
          "name": "stdout"
        }
      ]
    },
    {
      "cell_type": "code",
      "metadata": {
        "id": "tj5iSGTtMJHK",
        "colab": {
          "base_uri": "https://localhost:8080/"
        },
        "outputId": "6ac9b1e1-7e1b-452f-de9f-c5cf29c3279a"
      },
      "source": [
        "bootstrap_mean_ci(Current_fleet, len(Current_fleet), 10000, 99)"
      ],
      "execution_count": 10,
      "outputs": [
        {
          "output_type": "execute_result",
          "data": {
            "text/plain": [
              "(array([19.97188755, 19.85542169, 20.32931727, ..., 20.35742972,\n",
              "        20.4497992 , 20.5502008 ]), 19.116425702811245, 21.204819277108435)"
            ]
          },
          "metadata": {
            "tags": []
          },
          "execution_count": 10
        }
      ]
    },
    {
      "cell_type": "code",
      "metadata": {
        "id": "A_Ee1z88MMYW",
        "colab": {
          "base_uri": "https://localhost:8080/"
        },
        "outputId": "391b0d9c-36e2-4900-ccd3-41cc5c3d46c4"
      },
      "source": [
        "bootstrap_stand_ci(Current_fleet, len(Current_fleet), 10000, 95)"
      ],
      "execution_count": 11,
      "outputs": [
        {
          "output_type": "execute_result",
          "data": {
            "text/plain": [
              "(array([6.17303697, 6.97860012, 6.28227734, ..., 6.35962257, 6.70559833,\n",
              "        6.17877196]), 5.801256183322915, 6.951616921292721)"
            ]
          },
          "metadata": {
            "tags": []
          },
          "execution_count": 11
        }
      ]
    },
    {
      "cell_type": "markdown",
      "metadata": {
        "id": "qjNgXW6wdd7r"
      },
      "source": [
        "# Vehicles dataset\n",
        "\n",
        "Now let's work on a different dataset, which is stored in the vehicles.csv file.\n"
      ]
    },
    {
      "cell_type": "code",
      "metadata": {
        "id": "avWv4ipFdpka"
      },
      "source": [
        "# Load and visualise the vehicles dataset\n",
        "# To load the dataset: https://neptune.ai/blog/google-colab-dealing-with-files (check section \"Load individual files directly from GitHub\")\n",
        "DataFrame = pd.read_csv('https://raw.githubusercontent.com/albanda/CE888/master/lab2%20-%20bootstrap/vehicles.csv')\n",
        "#DataFrame.head()\n",
        "Current_fleet = DataFrame.values.T[0]\n",
        "New_fleet = DataFrame.values.T[1]\n",
        "New_fleet = New_fleet[~np.isnan(New_fleet)]\n",
        "\n",
        "# Note that the current and new fleets are in different columns and have different lengths, so bear this in mind when you're plotting.\n",
        "# You can create separate scatterplots for the two fleets, as you would with the histograms, \n",
        "# or plot them both in one plot (but not one against the other).\n",
        "\n"
      ],
      "execution_count": 12,
      "outputs": []
    },
    {
      "cell_type": "markdown",
      "metadata": {
        "id": "B5d0tXDpIEj8"
      },
      "source": [
        "## Compare the two fleets\n",
        "\n",
        "The business analysts come up a comparison algorithm that requires the upper and lower bounds for the mean in order to say which fleet is better.\n",
        "1. Calculate the mean of both samples.\n",
        "2. Using the bootstrap function that you created:\n",
        "    - Construct the 95% CI of the mean of the current fleet.\n",
        "    - Construct the 95% CI of the mean of the new fleet.\n",
        "    - Are they comparable? (i.e., is one better than the other?) -- you can do this with a permutation test (check the lecture notes!)"
      ]
    },
    {
      "cell_type": "code",
      "metadata": {
        "id": "po4mp6zRHC0m",
        "colab": {
          "base_uri": "https://localhost:8080/"
        },
        "outputId": "9f03cf5b-9925-43ff-d24e-6c4bc0da4985"
      },
      "source": [
        "Current_fleet_mean = np.nanmean(Current_fleet)\n",
        "New_fleet_mean = np.nanmean(New_fleet)\n",
        "\n",
        "print(Current_fleet_mean, New_fleet_mean)"
      ],
      "execution_count": 13,
      "outputs": [
        {
          "output_type": "stream",
          "text": [
            "20.14457831325301 30.481012658227847\n"
          ],
          "name": "stdout"
        }
      ]
    },
    {
      "cell_type": "code",
      "metadata": {
        "colab": {
          "base_uri": "https://localhost:8080/"
        },
        "id": "U-s4wdMAC5N_",
        "outputId": "2a508d96-3f40-4e3e-ae47-c2c90234ed5c"
      },
      "source": [
        "bootstrap_mean(New_fleet, len(New_fleet), 10000)"
      ],
      "execution_count": 14,
      "outputs": [
        {
          "output_type": "execute_result",
          "data": {
            "text/plain": [
              "(array([30.63291139, 31.13924051, 30.70886076, ..., 29.98734177,\n",
              "        30.08860759, 31.62025316]), 27.993636075949368, 28.873417721518987)"
            ]
          },
          "metadata": {
            "tags": []
          },
          "execution_count": 14
        }
      ]
    },
    {
      "cell_type": "code",
      "metadata": {
        "colab": {
          "base_uri": "https://localhost:8080/"
        },
        "id": "dLHlscEqzpeR",
        "outputId": "28d13d25-f256-4f1d-eae8-8b137216d78b"
      },
      "source": [
        "bootstrap_mean_ci(Current_fleet, len(Current_fleet), 10000, 0.80)"
      ],
      "execution_count": 15,
      "outputs": [
        {
          "output_type": "execute_result",
          "data": {
            "text/plain": [
              "(array([20.57429719, 19.69477912, 19.91164659, ..., 21.        ,\n",
              "        19.47791165, 19.90763052]), 20.136546184738958, 20.14457831325301)"
            ]
          },
          "metadata": {
            "tags": []
          },
          "execution_count": 15
        }
      ]
    },
    {
      "cell_type": "code",
      "metadata": {
        "id": "ER_UgecE1AJv"
      },
      "source": [
        "sample1 = Current_fleet[~np.isnan(Current_fleet)]\n",
        "sample2 = New_fleet[~np.isnan(New_fleet)]"
      ],
      "execution_count": 16,
      "outputs": []
    },
    {
      "cell_type": "code",
      "metadata": {
        "id": "MkxvDZG4HC0n"
      },
      "source": [
        "# Create your own function for a permutation test here (you will need it for the lab quiz!):\n",
        "from itertools import permutations \n",
        "def permut_test(sample1, sample2, n_permutations):\n",
        "    \n",
        "    \n",
        "    xold = bootstrap_mean_ci(sample1, sample1.shape[0], 100, 99)[0]\n",
        "    xnew = bootstrap_mean_ci(sample2, sample2.shape[0], 100, 99)[0]\n",
        "      \n",
        "    tobs = xnew - xold\n",
        "    concat = np.concatenate((sample1, sample2))\n",
        "    \n",
        "    k = 0\n",
        "    \n",
        "    for i in range (n_permutations):\n",
        "        perm = np.random.permutation(concat)\n",
        "        \n",
        "        pold = perm[:int(len(perm)/2)]\n",
        "        pnew = perm[int(len(perm/2)):]\n",
        "        \n",
        "        mold = bootstrap_mean_ci(pold, pold.shape[0], 100, 99)[0]\n",
        "        mnew = bootstrap_mean_ci(pnew, pnew.shape[0], 100, 99)[0]\n",
        "        \n",
        "        tperm = abs(mnew - mold)\n",
        "        if tperm > tobs:\n",
        "            k += 1\n",
        "        \n",
        "    pvalue = k/n_permutations\n",
        "                             \n",
        "    \"\"\"\n",
        "    sample1: 1D array\n",
        "    sample2: 1D array (note that the size of the two arrays can be different)\n",
        "    n_permutations: number of permutations to calculate the p-value\n",
        "    \"\"\"\n",
        "    return pvalue"
      ],
      "execution_count": 17,
      "outputs": []
    },
    {
      "cell_type": "code",
      "metadata": {
        "colab": {
          "base_uri": "https://localhost:8080/",
          "height": 313
        },
        "id": "FaOj9X0n0FPs",
        "outputId": "52c5796d-77c9-4538-c26a-97b95f88f259"
      },
      "source": [
        "permut_test(Current_fleet, New_fleet, 3000)"
      ],
      "execution_count": 18,
      "outputs": [
        {
          "output_type": "stream",
          "text": [
            "/usr/local/lib/python3.7/dist-packages/ipykernel_launcher.py:4: RuntimeWarning: Mean of empty slice\n",
            "  after removing the cwd from sys.path.\n"
          ],
          "name": "stderr"
        },
        {
          "output_type": "error",
          "ename": "ValueError",
          "evalue": "ignored",
          "traceback": [
            "\u001b[0;31m---------------------------------------------------------------------------\u001b[0m",
            "\u001b[0;31mValueError\u001b[0m                                Traceback (most recent call last)",
            "\u001b[0;32m<ipython-input-18-0bcbc7559b5c>\u001b[0m in \u001b[0;36m<module>\u001b[0;34m()\u001b[0m\n\u001b[0;32m----> 1\u001b[0;31m \u001b[0mpermut_test\u001b[0m\u001b[0;34m(\u001b[0m\u001b[0mCurrent_fleet\u001b[0m\u001b[0;34m,\u001b[0m \u001b[0mNew_fleet\u001b[0m\u001b[0;34m,\u001b[0m \u001b[0;36m3000\u001b[0m\u001b[0;34m)\u001b[0m\u001b[0;34m\u001b[0m\u001b[0;34m\u001b[0m\u001b[0m\n\u001b[0m",
            "\u001b[0;32m<ipython-input-17-b05e28f628ce>\u001b[0m in \u001b[0;36mpermut_test\u001b[0;34m(sample1, sample2, n_permutations)\u001b[0m\n\u001b[1;32m     22\u001b[0m \u001b[0;34m\u001b[0m\u001b[0m\n\u001b[1;32m     23\u001b[0m         \u001b[0mtperm\u001b[0m \u001b[0;34m=\u001b[0m \u001b[0mabs\u001b[0m\u001b[0;34m(\u001b[0m\u001b[0mmnew\u001b[0m \u001b[0;34m-\u001b[0m \u001b[0mmold\u001b[0m\u001b[0;34m)\u001b[0m\u001b[0;34m\u001b[0m\u001b[0;34m\u001b[0m\u001b[0m\n\u001b[0;32m---> 24\u001b[0;31m         \u001b[0;32mif\u001b[0m \u001b[0mtperm\u001b[0m \u001b[0;34m>\u001b[0m \u001b[0mtobs\u001b[0m\u001b[0;34m:\u001b[0m\u001b[0;34m\u001b[0m\u001b[0;34m\u001b[0m\u001b[0m\n\u001b[0m\u001b[1;32m     25\u001b[0m             \u001b[0mk\u001b[0m \u001b[0;34m+=\u001b[0m \u001b[0;36m1\u001b[0m\u001b[0;34m\u001b[0m\u001b[0;34m\u001b[0m\u001b[0m\n\u001b[1;32m     26\u001b[0m \u001b[0;34m\u001b[0m\u001b[0m\n",
            "\u001b[0;31mValueError\u001b[0m: The truth value of an array with more than one element is ambiguous. Use a.any() or a.all()"
          ]
        }
      ]
    },
    {
      "cell_type": "code",
      "metadata": {
        "id": "UsDE2Rg80PiD"
      },
      "source": [
        ""
      ],
      "execution_count": null,
      "outputs": []
    }
  ]
}